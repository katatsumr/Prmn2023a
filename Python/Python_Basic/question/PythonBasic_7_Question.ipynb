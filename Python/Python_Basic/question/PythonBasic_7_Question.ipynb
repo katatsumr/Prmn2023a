{
  "nbformat": 4,
  "nbformat_minor": 0,
  "metadata": {
    "colab": {
      "provenance": [],
      "include_colab_link": true
    },
    "kernelspec": {
      "name": "python3",
      "display_name": "Python 3"
    },
    "language_info": {
      "name": "python"
    }
  },
  "cells": [
    {
      "cell_type": "markdown",
      "metadata": {
        "id": "view-in-github",
        "colab_type": "text"
      },
      "source": [
        "<a href=\"https://colab.research.google.com/github/katatsumr/Prmn2023a/blob/main/Python/Python_Basic/question/PythonBasic_7_Question.ipynb\" target=\"_parent\"><img src=\"https://colab.research.google.com/assets/colab-badge.svg\" alt=\"Open In Colab\"/></a>"
      ]
    },
    {
      "cell_type": "markdown",
      "source": [
        "# 第7章 課題"
      ],
      "metadata": {
        "id": "JR-0wWX5GOz4"
      }
    },
    {
      "cell_type": "markdown",
      "source": [
        "## 課題1"
      ],
      "metadata": {
        "id": "a-2Yu9QBGREf"
      }
    },
    {
      "cell_type": "markdown",
      "source": [
        "`ppap.txt`をアップロードしてください。  \n",
        "\n",
        "ピコ太郎さんの「PPAP」という歌の歌詞が書かれています。  \n",
        "まずはこのテキストファイルから歌詞を読み込んでください。"
      ],
      "metadata": {
        "id": "icanGSBB6KCB"
      }
    },
    {
      "cell_type": "markdown",
      "source": [
        "歌詞の単語の登場回数を数え、  \n",
        "出現回数の多い順にソートしたディクショナリを関数で返してください\n",
        "\n",
        "その後、そのディクショナリを出力してください"
      ],
      "metadata": {
        "id": "Wy8Sx90f6WTB"
      }
    },
    {
      "cell_type": "markdown",
      "source": [
        "＜実行結果＞  \n",
        "``` py\n",
        "{'pen': 8, 'i': 4, 'have': 4, 'apple': 4, 'pineapple': 4, 'a': 3, 'ppap': 1, 'an': 1}\n",
        "```"
      ],
      "metadata": {
        "id": "0Z2-_1dAQENU"
      }
    },
    {
      "cell_type": "code",
      "source": [
        "# 入力用（テキスト読み込み）\n",
        "\n",
        "text = \"\"\"PPAP\n",
        "I have a pen.\n",
        "I have an apple.\n",
        "Apple pen！\n",
        "I have a pen.\n",
        "I have a pineapple.\n",
        "Pineapple pen！\n",
        "Apple pen.\n",
        "Pineapple pen.\n",
        "Pen-pineapple-Apple-pen！\"\"\"\n",
        "\n",
        "with open(\"ppap.text\",mode=\"w+\") as f:\n",
        "  f.write(text + \"\\n\")"
      ],
      "metadata": {
        "id": "5DzB6nze6d65"
      },
      "execution_count": 2,
      "outputs": []
    },
    {
      "cell_type": "code",
      "source": [
        "# 入力用（カウントとメイン部分）\n",
        "\n",
        "import string\n",
        "\n",
        "def word_count(list):\n",
        "  dic = {}\n",
        "  for i in list:\n",
        "    if(i not in dic):\n",
        "      dic[i] = int(1)\n",
        "    elif(i in dic):\n",
        "      dic[i] = int(dic[i] + 1)\n",
        "  sorted_list = sorted(dic.items(),key=lambda x:x[1],reverse = True)\n",
        "  sorted_dic = dict(sorted_list)\n",
        "  return sorted_dic\n",
        "\n",
        "with open(\"ppap.text\",mode=\"r+\") as f:\n",
        "  ppap = []\n",
        "  texts = f.read().splitlines()\n",
        "  for text in texts:\n",
        "    text = text.replace('！', '')\n",
        "    text = text.replace('-', ' ')\n",
        "    text = text.translate(str.maketrans('', '', string.punctuation))\n",
        "    ppap.extend(text.lower().split())\n",
        "  print(ppap)\n",
        "\n",
        "sorted_dic = word_count(ppap)\n",
        "print(sorted_dic)"
      ],
      "metadata": {
        "id": "NHsFskbC6fzq",
        "outputId": "3c72cb48-4fc5-45a7-a62a-9219467023f2",
        "colab": {
          "base_uri": "https://localhost:8080/"
        }
      },
      "execution_count": 10,
      "outputs": [
        {
          "output_type": "stream",
          "name": "stdout",
          "text": [
            "['ppap', 'i', 'have', 'a', 'pen', 'i', 'have', 'an', 'apple', 'apple', 'pen', 'i', 'have', 'a', 'pen', 'i', 'have', 'a', 'pineapple', 'pineapple', 'pen', 'apple', 'pen', 'pineapple', 'pen', 'pen', 'pineapple', 'apple', 'pen']\n",
            "{'pen': 8, 'i': 4, 'have': 4, 'apple': 4, 'pineapple': 4, 'a': 3, 'ppap': 1, 'an': 1}\n"
          ]
        }
      ]
    },
    {
      "cell_type": "markdown",
      "source": [
        "## 課題2"
      ],
      "metadata": {
        "id": "dSQu_cY6EpMk"
      }
    },
    {
      "cell_type": "markdown",
      "source": [
        "`toukei_seiseki.txt`をアップロードしてください。 \n",
        "\n",
        "とある人の統計学の成績データになります。"
      ],
      "metadata": {
        "id": "b-ekHtnVEwsO"
      }
    },
    {
      "cell_type": "markdown",
      "source": [
        "成績評価を0~5の6段階でつけたいものとします。  \n",
        "\n",
        "|成績|点数|\n",
        "|:---| :--- |\n",
        "|$A$|5|\n",
        "|$B^{+}$|4|\n",
        "|$B$|3|\n",
        "|$B^{-}$|2|\n",
        "|$C^{+}$|1|\n",
        "|$C$|0|\n"
      ],
      "metadata": {
        "id": "L3i6Z8xg9eHr"
      }
    },
    {
      "cell_type": "markdown",
      "source": [
        "上表のように成績を変換する関数を作成してください  "
      ],
      "metadata": {
        "id": "EdC2oqvr9eHs"
      }
    },
    {
      "cell_type": "markdown",
      "source": [
        "この科目は、「5×全15回=最大点75点」に、  \n",
        "「全14回×50点=最大点700点を25点に圧縮したもの」の和によって成績判定を行います。"
      ],
      "metadata": {
        "id": "CbT-Ni7g9eHs"
      }
    },
    {
      "cell_type": "markdown",
      "source": [
        "適切に関数を使い、以下のデータの成績評価を行えるようにしてください\n",
        "\n",
        "\n"
      ],
      "metadata": {
        "id": "lrIoPU8b9eHs"
      }
    },
    {
      "cell_type": "markdown",
      "source": [
        "＜例＞  \n",
        "小テストの合計点は600点だったので25点満点に圧縮すると21.42点  \n",
        "課題は全て$B^+$評価だったので4×15=60点  \n",
        "合計点81.42点なので評定は「優」"
      ],
      "metadata": {
        "id": "-QKViYIF9eHt"
      }
    },
    {
      "cell_type": "code",
      "source": [
        "seiseki_kadai = \"B+\\nA\\nB+\\nA\\nA\\nA\\nA\\nA\\nB+\\nA\\nA\\nB+\\nA\\nB+\\nA\"\n",
        "seiseki_test = \"50\\n50\\n50\\n15\\n40\\n50\\n50\\n50\\n50\\n15\\n45\\n40\\n50\\n50\"\n",
        "with open(\"seiseki_data.text\",mode=\"w+\") as f:\n",
        "  f.write(seiseki_kadai + \"\\n\")\n",
        "  f.write(seiseki_test + \"\\n\")"
      ],
      "metadata": {
        "id": "vZ1lU1LLGX2j"
      },
      "execution_count": 36,
      "outputs": []
    },
    {
      "cell_type": "code",
      "source": [
        "# 参考 成績データの空ディクショナリ\n",
        "\n",
        "def assess_assignment(data):\n",
        "  assessment = 0\n",
        "  for i in data[\"課題\"]:\n",
        "    if (i == \"A\"):\n",
        "      assessment += 5\n",
        "    elif (i == \"B+\"):\n",
        "      assessment += 4\n",
        "    elif (i == \"B\"):\n",
        "      assessment += 3\n",
        "    elif (i == \"B-\"):\n",
        "      assessment += 2\n",
        "    elif (i == \"C+\"):\n",
        "      assessment += 1\n",
        "  return assessment\n",
        "\n",
        "def assess_quiz(data):\n",
        "  assessment = 0\n",
        "  for i in data[\"小テスト\"]:\n",
        "    assessment =+ i\n",
        "  assessment = assessment/24\n",
        "  return assessment\n",
        "\n",
        "def assess(assess_assignment,assess_quiz):\n",
        "  assess = assess_assignment + assess_quiz\n",
        "  if(assess >= 90):\n",
        "    print(\"秀\")\n",
        "  elif(assess >= 80):\n",
        "    print(\"優\")\n",
        "  elif(assess >= 70):\n",
        "    print(\"良\")\n",
        "  elif(assess >= 60):\n",
        "    print(\"可\")\n",
        "  else:\n",
        "    print(\"不可\")\n",
        "\n",
        "with open(\"seiseki_data.text\",mode=\"r+\") as f:\n",
        "  test_data = {\"課題\":[],\"小テスト\":[]}\n",
        "  line = f.readline()\n",
        "  while line:\n",
        "    line = line.strip()\n",
        "    if(line == \"A\" or line == \"B+\" or line == \"B\" or line == \"B-\" or line == \"C+\" or line == \"C\"):\n",
        "      test_data[\"課題\"].append(line)\n",
        "    else:\n",
        "      test_data[\"小テスト\"].append(int(line))\n",
        "    line = f.readline()\n",
        "\n",
        "kadai_hantei = assess_assignment(test_data)\n",
        "test_hantei = assess_quiz(test_data)\n",
        "assess(kadai_hantei,test_hantei)\n"
      ],
      "metadata": {
        "id": "B6heQ-a8Fk2C",
        "outputId": "aebeab22-eba5-4909-a22b-fa3595a388a8",
        "colab": {
          "base_uri": "https://localhost:8080/"
        }
      },
      "execution_count": 47,
      "outputs": [
        {
          "output_type": "stream",
          "name": "stdout",
          "text": [
            "良\n"
          ]
        }
      ]
    },
    {
      "cell_type": "markdown",
      "source": [
        "### 課題2 補足"
      ],
      "metadata": {
        "id": "E8ZRqBlkGW2D"
      }
    },
    {
      "cell_type": "markdown",
      "source": [
        "文字列を置換したいときは**`replace`メソッド**を使います。  \n",
        "\n",
        "複数回行いたいときは`replace`メソッドを複数回続けます。"
      ],
      "metadata": {
        "id": "s4IPiuNZGd96"
      }
    },
    {
      "cell_type": "code",
      "source": [
        "hantei_list = [\"60\",\"70\",\"80\",\"90\"]\n",
        "kekka_list = []\n",
        "\n",
        "\"\"\"\n",
        "リストから要素を取り出して指定の値を置換する\n",
        "\"\"\"\n",
        "for hantei in hantei_list:\n",
        "  hantei = hantei.replace(\"60\",\"可\").replace(\"70\",\"良\").replace(\"80\",\"優\").replace(\"90\",\"秀\")\n",
        "  kekka_list.append(hantei)\n",
        "\n",
        "print(kekka_list)"
      ],
      "metadata": {
        "colab": {
          "base_uri": "https://localhost:8080/"
        },
        "id": "83OyhJkDGupg",
        "outputId": "f242a522-4daf-4bf7-a2ec-76a9b2b8c04a"
      },
      "execution_count": null,
      "outputs": [
        {
          "output_type": "stream",
          "name": "stdout",
          "text": [
            "['可', '良', '優', '秀']\n"
          ]
        }
      ]
    },
    {
      "cell_type": "markdown",
      "source": [
        "## 課題3"
      ],
      "metadata": {
        "id": "ImanFioRIU6F"
      }
    },
    {
      "cell_type": "markdown",
      "source": [
        "`all_seiseki.txt`をアップロードしてください。 \n",
        "\n",
        "とある人の2年春学期までの成績データになります。"
      ],
      "metadata": {
        "id": "9Q_HBLgfIXVf"
      }
    },
    {
      "cell_type": "markdown",
      "source": [
        "GPAを計算したいものとします。  \n",
        "成績に付与されるGPは以下の通りです。\n",
        "\n",
        "|成績|GP|\n",
        "|:---| :--- |\n",
        "|秀|4|\n",
        "|優|3|\n",
        "|良|2|\n",
        "|可|1|\n",
        "|不可|0|"
      ],
      "metadata": {
        "id": "wimEVJZUMWoL"
      }
    },
    {
      "cell_type": "markdown",
      "source": [
        "上表のように成績を変換する関数を作成してください "
      ],
      "metadata": {
        "id": "vLfMefKLNZsq"
      }
    },
    {
      "cell_type": "markdown",
      "source": [
        "GPAの計算式は以下の通りです。  \n",
        "$$\n",
        "GPA = \\frac{(GP×そのGPの単位数) の合計}{履修単位数} \n",
        "$$"
      ],
      "metadata": {
        "id": "pJ-Cltm9NbZ6"
      }
    },
    {
      "cell_type": "markdown",
      "source": [
        "適切に関数を使い、テキストデータのGPAを算出してください"
      ],
      "metadata": {
        "id": "k_jm9pzkOFAw"
      }
    },
    {
      "cell_type": "code",
      "source": [
        "# 入力用\n",
        "\n",
        "def gp(seiseki):\n",
        "  if seiseki == \"秀\":\n",
        "    return 4\n",
        "  elif seiseki == \"優\":\n",
        "    return 3\n",
        "  elif seiseki == \"良\":\n",
        "    return 2\n",
        "  elif seiseki == \"可\":\n",
        "    return 1\n",
        "  else:\n",
        "    return 0\n",
        "\n",
        "def gpa(data):\n",
        "  tanni = 0\n",
        "  gp_total = 0\n",
        "  gpa = 0\n",
        "  for i in range(len(data[\"授業\"])):\n",
        "    if(data[\"授業\"][i] in one_unit_class):\n",
        "      gp_total += 1 * gp(data[\"成績\"][i].strip())\n",
        "      tanni += 1 \n",
        "    else:\n",
        "      gp_total += 2 * gp(data[\"成績\"][i].strip())\n",
        "      tanni += 2\n",
        "  gpa = gp_total / tanni\n",
        "  return gpa\n",
        "\n",
        "all_seiseki = \"物理学入門(Ａ・Ｂ):良\\n化学入門(Ａ・Ｂ):秀\\nエレクトロニクス入門(Ａ・Ｂ):秀\\n情報学基礎演習(Ａ):秀\\nキャリア形成Ａ１（Ａ）:秀\\n千歳学(Ａ):秀\\n言語リテラシー１(Ａ):秀\\n微分積分学Ⅰ（Ａ）:優\\n理工学基礎実験１（Ａ）:優\\n理系のための基礎英語Ⅰ(Ａ) :秀\\n日本国憲法(遠隔):秀\\nスポーツ総合１(Ａ):優\\n健康科学(Ａ・Ｂ):優\"\n",
        "with open(\"all_seiseki.text\",mode=\"w+\") as f:\n",
        "  f.write(all_seiseki + \"\\n\")\n",
        "\n",
        "with open(\"all_seiseki.text\",mode=\"r\") as f:\n",
        "  seiseki_data = {\"授業\":[],\"成績\":[]}\n",
        "  line = f.readline()\n",
        "  while line:\n",
        "    seiseki_data[\"授業\"].append(line.split(':')[0])\n",
        "    seiseki_data[\"成績\"].append(line.split(':')[1])\n",
        "    line = f.readline()\n",
        "\n",
        "\n",
        "gpa = gpa(seiseki_data)\n",
        "print(gpa)"
      ],
      "metadata": {
        "id": "4_KjT73rJAkT",
        "outputId": "7390944f-0c3a-441c-f2f2-4e0e9cc7d6d1",
        "colab": {
          "base_uri": "https://localhost:8080/"
        }
      },
      "execution_count": 67,
      "outputs": [
        {
          "output_type": "stream",
          "name": "stdout",
          "text": [
            "3.55\n"
          ]
        }
      ]
    },
    {
      "cell_type": "code",
      "source": [
        "# 参考 1単位の授業をまとめたリスト\n",
        "one_unit_class = (\"キャリア形成Ａ１（Ａ）\",\"千歳学(Ａ)\",\"言語リテラシー１(Ａ)\",\n",
        "                  \"理工学基礎実験１（Ａ）\",\"スポーツ総合１(Ａ)\",\"健康科学(Ａ・Ｂ)\")"
      ],
      "metadata": {
        "id": "LiCCAoDqJA5r"
      },
      "execution_count": 46,
      "outputs": []
    },
    {
      "cell_type": "code",
      "source": [
        "# 参考 成績データの空ディクショナリ\n",
        "seiseki_data = {\"授業\":[],\"成績\":[]}"
      ],
      "metadata": {
        "id": "AUVzFPP1JJlO"
      },
      "execution_count": null,
      "outputs": []
    }
  ]
}