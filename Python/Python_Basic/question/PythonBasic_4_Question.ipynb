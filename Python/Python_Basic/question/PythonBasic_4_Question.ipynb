{
  "nbformat": 4,
  "nbformat_minor": 0,
  "metadata": {
    "colab": {
      "provenance": []
    },
    "kernelspec": {
      "name": "python3",
      "display_name": "Python 3"
    },
    "language_info": {
      "name": "python"
    }
  },
  "cells": [
    {
      "cell_type": "markdown",
      "source": [
        "<a href=\"https://colab.research.google.com/github/kiryu-3/Prmn2023/blob/main/Python/Python_Basic/question/PythonBasic_4_Question.ipynb\" target=\"_parent\"><img src=\"https://colab.research.google.com/assets/colab-badge.svg\" alt=\"Open In Colab\"/></a>"
      ],
      "metadata": {
        "id": "TA5kKi-LY1xg"
      }
    },
    {
      "cell_type": "markdown",
      "source": [
        "# 第4章 課題"
      ],
      "metadata": {
        "id": "r-kcfL2yEU8b"
      }
    },
    {
      "cell_type": "markdown",
      "source": [
        "## 課題1"
      ],
      "metadata": {
        "id": "UqgRlaNaaWsU"
      }
    },
    {
      "cell_type": "markdown",
      "source": [
        "10から2800まで、10飛ばしの数を乱数で生成し、2220000に足してください。  \n",
        "\n",
        "この数を5つ生成し、一つのリストに格納した後、最終的に頭に\"b\"をつけて5つ出力してください。"
      ],
      "metadata": {
        "id": "dMngS2Dtai7U"
      }
    },
    {
      "cell_type": "markdown",
      "source": [
        "＜実行結果例＞\n",
        "``` py  \n",
        "['b2220940', 'b2222010', 'b2224650', 'b2227390', 'b2229790']\n",
        "```"
      ],
      "metadata": {
        "id": "Ys4Y3shObw3w"
      }
    },
    {
      "cell_type": "code",
      "source": [
        "# 入力用\n",
        "import random\n",
        "list = []\n",
        "for i in range(5):\n",
        "  list.append(\"b{}\".format(2220000+random.randrange(10,2800,10))) \n",
        "print(list)"
      ],
      "metadata": {
        "id": "UaBFEY3Hdbsg",
        "outputId": "30870d88-22d8-4c75-c41c-61659d6606cc",
        "colab": {
          "base_uri": "https://localhost:8080/"
        }
      },
      "execution_count": 1,
      "outputs": [
        {
          "output_type": "stream",
          "name": "stdout",
          "text": [
            "['b2221820', 'b2220420', 'b2220620', 'b2220210', 'b2222520']\n"
          ]
        }
      ]
    },
    {
      "cell_type": "markdown",
      "source": [
        "## 課題2"
      ],
      "metadata": {
        "id": "yRsfay5_8FuJ"
      }
    },
    {
      "cell_type": "markdown",
      "source": [
        "1桁の自然数を乱数を使って5つ格納した2つのリストを作ってください。  \n",
        "この時、一つのリスト内で5つの値が重複しないようにしてください\n",
        "\n",
        "その後、対応する要素を足し合わせた新しいリストを出力してください"
      ],
      "metadata": {
        "id": "4WbYBFGr8Ht3"
      }
    },
    {
      "cell_type": "markdown",
      "source": [
        "＜実行結果例＞\n",
        "``` py  \n",
        "1つ目のリスト：[1, 2, 3, 4, 5]  \n",
        "2つ目のリスト：[1, 3, 5, 7, 9]  \n",
        "足し合わせたリスト：[2, 5, 8, 11, 14]\n",
        "```"
      ],
      "metadata": {
        "id": "A0ImPPha84Nb"
      }
    },
    {
      "cell_type": "code",
      "source": [
        "# 入力用\n",
        "list1 = []\n",
        "list2 = []\n",
        "list = []\n",
        "\n",
        "for i in range(1,6):\n",
        "  list1.append(i)\n",
        "for j in range (1,10,2):\n",
        "  list2.append(j)\n",
        "\n",
        "for i in range(len(list1)):\n",
        "  list.append(list1[i]+list2[i])\n",
        "\n",
        "print(list)"
      ],
      "metadata": {
        "id": "TaJm8jn2MHmk",
        "outputId": "185e94c6-407f-44e3-fbb0-1ebf81b0c0c7",
        "colab": {
          "base_uri": "https://localhost:8080/"
        }
      },
      "execution_count": 2,
      "outputs": [
        {
          "output_type": "stream",
          "name": "stdout",
          "text": [
            "[2, 5, 8, 11, 14]\n"
          ]
        }
      ]
    },
    {
      "cell_type": "markdown",
      "source": [
        "## 課題3"
      ],
      "metadata": {
        "id": "-qZw_n3X8xrW"
      }
    },
    {
      "cell_type": "markdown",
      "source": [
        "リストの中身を指定した数で分割してみます。\n",
        "\n",
        "以下のリストには都道府県47つが格納されています。"
      ],
      "metadata": {
        "id": "vxwATeobQf_U"
      }
    },
    {
      "cell_type": "code",
      "source": [
        "todohuken_list = [\n",
        "    '北海道', '青森県', '岩手県', '宮城県', '秋田県', '山形県', '福島県', '茨城県', '栃木県', '群馬県', \n",
        "    '埼玉県', '千葉県', '東京都', '神奈川県', '新潟県', '富山県', '石川県', '福井県', '山梨県', '長野県', \n",
        "    '岐阜県', '静岡県', '愛知県', '三重県', '滋賀県', '京都府', '大阪府', '兵庫県', '奈良県', '和歌山県', \n",
        "    '鳥取県', '島根県', '岡山県', '広島県', '山口県', '徳島県', '香川県', '愛媛県', '高知県',  '福岡県', \n",
        "    '佐賀県', '長崎県', '熊本県', '大分県', '宮崎県', '鹿児島県', '沖縄県',\n",
        "]"
      ],
      "metadata": {
        "id": "8ZdyRWbERGAY"
      },
      "execution_count": 3,
      "outputs": []
    },
    {
      "cell_type": "markdown",
      "source": [
        "  \n",
        "これをランダムに1つのリストのサイズを4として分割してください"
      ],
      "metadata": {
        "id": "tGPa1uU6Qs2c"
      }
    },
    {
      "cell_type": "markdown",
      "source": [
        "＜実行結果例＞  \n",
        "``` py \n",
        "[['宮崎県', '茨城県', '栃木県', '千葉県'], … , ['岩手県', '滋賀県', '宮城県']]\n",
        "```"
      ],
      "metadata": {
        "id": "PWLTwz0TXzm_"
      }
    },
    {
      "cell_type": "code",
      "source": [
        "# 入力用\n",
        "random.shuffle(todohuken_list)\n",
        "todohuken_list4 = []\n",
        "\n",
        "for i in range(len(todohuken_list)//4 + 1):\n",
        "  list = []\n",
        "  for n,m in enumerate(todohuken_list):\n",
        "    if(n//4 == i):\n",
        "      list.append(m)\n",
        "  todohuken_list4.append(list)\n",
        "\n",
        "print(todohuken_list4)"
      ],
      "metadata": {
        "id": "rgPlOseCTC_h",
        "outputId": "4193723b-46a2-44ec-9e2a-308f2892d344",
        "colab": {
          "base_uri": "https://localhost:8080/"
        }
      },
      "execution_count": 4,
      "outputs": [
        {
          "output_type": "stream",
          "name": "stdout",
          "text": [
            "[['広島県', '徳島県', '宮崎県', '山形県'], ['高知県', '岩手県', '東京都', '三重県'], ['滋賀県', '秋田県', '福井県', '茨城県'], ['長野県', '大阪府', '山梨県', '京都府'], ['富山県', '神奈川県', '栃木県', '群馬県'], ['千葉県', '愛知県', '愛媛県', '青森県'], ['島根県', '和歌山県', '福島県', '山口県'], ['北海道', '香川県', '長崎県', '岡山県'], ['福岡県', '鳥取県', '埼玉県', '熊本県'], ['静岡県', '宮城県', '兵庫県', '沖縄県'], ['岐阜県', '新潟県', '大分県', '奈良県'], ['鹿児島県', '石川県', '佐賀県']]\n"
          ]
        }
      ]
    },
    {
      "cell_type": "markdown",
      "source": [
        "## 課題4"
      ],
      "metadata": {
        "id": "W573lh39MOlj"
      }
    },
    {
      "cell_type": "markdown",
      "source": [
        "ある大学の名前と年齢が、次のような形式で格納されたリスト `university_list` があります。"
      ],
      "metadata": {
        "id": "sSIMKY-aNcIx"
      }
    },
    {
      "cell_type": "code",
      "source": [
        "university_list = [\n",
        "    \"Chitose,25\",\n",
        "    \"Hokudai,105\",\n",
        "    \"Muroran,74\",\n",
        "    \"Hakodate,23\",\n",
        "]"
      ],
      "metadata": {
        "id": "v-wGyWuKK3wl"
      },
      "execution_count": 6,
      "outputs": []
    },
    {
      "cell_type": "markdown",
      "source": [
        "このリストを、年齢順にソートして、新たなリストとして出力してください"
      ],
      "metadata": {
        "id": "XIxDf9QgO1iH"
      }
    },
    {
      "cell_type": "markdown",
      "source": [
        "＜実行結果＞  \n",
        "``` py\n",
        "['Chitose,25', 'Hokudai,105', 'Muroran,74', 'Hakodate,23']\n",
        "['Hakodate,23', 'Chitose,25', 'Muroran,74', 'Hokudai,105']\n",
        "```"
      ],
      "metadata": {
        "id": "0Z2-_1dAQENU"
      }
    },
    {
      "cell_type": "code",
      "source": [
        "# 入力用\n",
        "university_list_sorted = sorted(university_list,key = lambda x:int(x.split(\",\")[1]))\n",
        "print(university_list_sorted)"
      ],
      "metadata": {
        "id": "ficNVfkgR5Kv",
        "outputId": "7c8e8cae-2e63-4a8f-e382-8fbcd6f4d337",
        "colab": {
          "base_uri": "https://localhost:8080/"
        }
      },
      "execution_count": 7,
      "outputs": [
        {
          "output_type": "stream",
          "name": "stdout",
          "text": [
            "['Hakodate,23', 'Chitose,25', 'Muroran,74', 'Hokudai,105']\n"
          ]
        }
      ]
    },
    {
      "cell_type": "markdown",
      "source": [
        "## 課題5"
      ],
      "metadata": {
        "id": "QijnXk7UWAVC"
      }
    },
    {
      "cell_type": "markdown",
      "source": [
        "**FizzBuzz（フィズ・バズ）問題**という問題について解いていきます。\n",
        "\n",
        "もともとは、英語圏で長距離ドライブ中や飲み会の時に行われる言葉遊びです。"
      ],
      "metadata": {
        "id": "m7F47Q1mWCA6"
      }
    },
    {
      "cell_type": "markdown",
      "source": [
        "以下のような問題になります。\n",
        "\n",
        "1～Nまでの整数を順に出力しなさい。ただし、例外として以下のルールを守ること。\n",
        "\n",
        "* 3で割り切れる数字の場合は\"Fizz\"を出力\n",
        "* 5で割り切れる数字の場合は\"Buzz\"を出力\n",
        "* どちらでも割り切れる数字の場合は\"FizzBuzz\"を出力"
      ],
      "metadata": {
        "id": "fArw0VcNWgwZ"
      }
    },
    {
      "cell_type": "markdown",
      "source": [
        "ここではN=100として、まずは一つのリストに\n",
        "\"Fizz\" か \"Buzz\" か \"FizzBuzz\" か \"others\" を格納してください。\n",
        "\n",
        "その後、それぞれの要素の数をカウントしてください。"
      ],
      "metadata": {
        "id": "SYqkpYstWm7Z"
      }
    },
    {
      "cell_type": "markdown",
      "source": [
        "＜実行結果＞  \n",
        "``` py\n",
        "FizzBuzzの数：6 \n",
        "Fizzの数：27 \n",
        "Buzzの数：14\n",
        "othersの数：53  \n",
        "```"
      ],
      "metadata": {
        "id": "OqLuJTcWYzFt"
      }
    },
    {
      "cell_type": "code",
      "source": [
        "# 入力用\n",
        "N = 100\n",
        "list_fizzbuzz = []\n",
        "for i in range(1,101):\n",
        "  if(i%3 == 0 and i%5 == 0):\n",
        "    print(\"FizzBuzz\",end = \" \")\n",
        "    list_fizzbuzz.append(\"FizzBuzz\")\n",
        "  elif(i%3 == 0):\n",
        "    print(\"Fizz\",end = \" \")\n",
        "    list_fizzbuzz.append(\"Fizz\")\n",
        "  elif(i%5 == 0):\n",
        "    print(\"Buzz\",end = \" \")\n",
        "    list_fizzbuzz.append(\"Buzz\")\n",
        "  else:\n",
        "    print(i,end = \" \")\n",
        "    list_fizzbuzz.append(\"others\")\n",
        "  \n",
        "print(f\"\\nFizzBuzzの数 : {list_fizzbuzz.count('FizzBuzz')}\")\n",
        "print(f\"Fizzの数 : {list_fizzbuzz.count('Fizz')}\")\n",
        "print(f\"Buzzの数 : {list_fizzbuzz.count('Buzz')}\")\n",
        "print(f\"othersの数 : {list_fizzbuzz.count('others')}\")"
      ],
      "metadata": {
        "id": "5kEDaVLmaEpb",
        "outputId": "f7845ca7-8d31-4c96-d3c1-71c7245aa126",
        "colab": {
          "base_uri": "https://localhost:8080/"
        }
      },
      "execution_count": 8,
      "outputs": [
        {
          "output_type": "stream",
          "name": "stdout",
          "text": [
            "1 2 Fizz 4 Buzz Fizz 7 8 Fizz Buzz 11 Fizz 13 14 FizzBuzz 16 17 Fizz 19 Buzz Fizz 22 23 Fizz Buzz 26 Fizz 28 29 FizzBuzz 31 32 Fizz 34 Buzz Fizz 37 38 Fizz Buzz 41 Fizz 43 44 FizzBuzz 46 47 Fizz 49 Buzz Fizz 52 53 Fizz Buzz 56 Fizz 58 59 FizzBuzz 61 62 Fizz 64 Buzz Fizz 67 68 Fizz Buzz 71 Fizz 73 74 FizzBuzz 76 77 Fizz 79 Buzz Fizz 82 83 Fizz Buzz 86 Fizz 88 89 FizzBuzz 91 92 Fizz 94 Buzz Fizz 97 98 Fizz Buzz \n",
            "FizzBuzzの数 : 6\n",
            "Fizzの数 : 27\n",
            "Buzzの数 : 14\n",
            "othersの数 : 53\n"
          ]
        }
      ]
    }
  ]
}